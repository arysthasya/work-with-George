{
 "cells": [
  {
   "cell_type": "code",
   "execution_count": 3,
   "metadata": {
    "ExecuteTime": {
     "end_time": "2020-07-27T12:51:51.275862Z",
     "start_time": "2020-07-27T12:51:11.309807Z"
    }
   },
   "outputs": [],
   "source": [
    "import numpy as np\n",
    "import json\n",
    "import matplotlib.pyplot as plt\n",
    "import matplotlib.animation as animation\n",
    "import seaborn as sns\n",
    "\n",
    "#with open('/Users/zhouji/Google Drive/RWTH/Data/RMH_sample_9.json') as f:\n",
    "    #data = json.load(f)\n",
    "with open('/Users/darksky_thasya/Documents/Dokumente - Arysthasyas MacBook Air/george-works/MCMCPlot/gpCN_sample_9.json') as f:\n",
    "    data = json.load(f)\n",
    "data = json.loads(data)\n",
    "samples_RMH = np.asarray(data['samples_gpCN'])"
   ]
  },
  {
   "cell_type": "code",
   "execution_count": 6,
   "metadata": {},
   "outputs": [
    {
     "name": "stderr",
     "output_type": "stream",
     "text": [
      "/Users/darksky_thasya/opt/anaconda3/lib/python3.7/site-packages/seaborn/distributions.py:196: RuntimeWarning: Mean of empty slice.\n",
      "  line, = ax.plot(0, a.mean())\n",
      "/Users/darksky_thasya/opt/anaconda3/lib/python3.7/site-packages/numpy/core/_methods.py:161: RuntimeWarning: invalid value encountered in double_scalars\n",
      "  ret = ret.dtype.type(ret / rcount)\n",
      "/Users/darksky_thasya/opt/anaconda3/lib/python3.7/site-packages/numpy/lib/histograms.py:898: RuntimeWarning: invalid value encountered in true_divide\n",
      "  return n/db/n.sum(), bin_edges\n",
      "/Users/darksky_thasya/opt/anaconda3/lib/python3.7/site-packages/numpy/core/fromnumeric.py:3257: RuntimeWarning: Mean of empty slice.\n",
      "  out=out, **kwargs)\n"
     ]
    },
    {
     "data": {
      "image/png": "[encoded data removed]",
      "text/plain": [
       "<Figure size 1080x216 with 2 Axes>"
      ]
     },
     "metadata": {
      "needs_background": "light"
     },
     "output_type": "display_data"
    }
   ],
   "source": [
    "fig = plt.figure(figsize=(15,3))\n",
    "\n",
    "ax1 = plt.subplot2grid((1, 3), (0, 0), colspan=2,xlim=(0, 10000), ylim=(200,600))\n",
    "ax2 = plt.subplot2grid((1, 3), (0, 2), colspan=1, ylim=(200,600))\n",
    "\n",
    "line1, = ax1.plot([], [],linewidth=2)\n",
    "#dot1, = ax1.scatter([], [])\n",
    "dot1, = ax1.plot([], [],'ro',markersize=8, animated=True)\n",
    "\n",
    "def init():\n",
    "    line1.set_data([], [])\n",
    "    p = sns.distplot(samples_RMH[:0, 0],bins=15,kde=False,vertical = True,ax = ax2)\n",
    "    return line1,p\n",
    "\n",
    "def animate(num):\n",
    "    line1.set_data(np.arange(num),samples_RMH[:num, 0])\n",
    "    dot1.set_data(num,samples_RMH[num, 0])\n",
    "    ax2.clear()\n",
    "    \n",
    "    p = sns.distplot(samples_RMH[:num, 0],bins=15,kde=True,vertical = True,ax = ax2)\n",
    "    p.axhline(y=np.mean(samples_RMH[:num, 0]),linestyle=\"--\")\n",
    "    p.grid(linestyle=':')\n",
    "    \n",
    "    \n",
    "    return line1,dot1,p\n",
    "\n",
    "\n",
    "time = np.arange(10000)\n",
    "\n",
    "anim = animation.FuncAnimation(fig, animate, init_func=init,\n",
    "                               frames=time[::50], interval=0.1, blit=False)\n",
    "\n",
    "writer = animation.writers['ffmpeg'](fps=10)\n",
    "dpi=200\n",
    "\n",
    "anim.save('test.mp4', writer=writer,dpi=dpi)\n",
    "plt.show()"
   ]
  },
  {
   "cell_type": "code",
   "execution_count": null,
   "metadata": {},
   "outputs": [],
   "source": [
    "# kde plot\n",
    "p = sns.distplot(samples_RMH[:, 0],bins=15,kde=True,vertical = True)"
   ]
  },
  {
   "cell_type": "code",
   "execution_count": null,
   "metadata": {
    "ExecuteTime": {
     "end_time": "2020-07-27T14:33:44.710878Z",
     "start_time": "2020-07-27T14:33:44.695910Z"
    }
   },
   "outputs": [],
   "source": [
    "class chainAnimation():\n",
    "    def __init__(self,data):\n",
    "        self.data = data\n",
    "\n",
    "    def Plot(self,):    \n",
    "        \n",
    "        self.fig = plt.figure(figsize=(15,3))\n",
    "        \n",
    "        ymin = np.min(self.data)-50\n",
    "        ymax = np.max(self.data)+50\n",
    "        \n",
    "        self.ax1 = plt.subplot2grid((1, 3), (0, 0), colspan=2,xlim=(0, self.data.shape[0]), ylim=(ymin,ymax))\n",
    "        self.ax2 = plt.subplot2grid((1, 3), (0, 2), colspan=1, ylim=(ymin,ymax))\n",
    "\n",
    "        line1, = self.ax1.plot([], [])\n",
    "        line1.set_data(np.arange(self.data.shape[0]),self.data)\n",
    "        p = sns.distplot(self.data[:],bins=15,kde=False,vertical = True,ax = self.ax2)\n",
    "        p.axhline(y=np.mean(self.data),linestyle=\"--\",label = 'mean')\n",
    "        plt.legend()\n",
    "        \n",
    "        return line1,p\n",
    "        \n",
    "    def init(self):\n",
    "        self.line1.set_data([], [])\n",
    "        p = sns.distplot(self.data,bins=15,kde=False,vertical = True,ax = self.ax2)\n",
    "        return self.line1,p\n",
    "\n",
    "    def animate(self,num):\n",
    "        self.line1.set_data(np.arange(num),self.data[:num])\n",
    "        self.ax2.clear()\n",
    "\n",
    "        p = sns.distplot(self.data[:num],bins=15,kde=False,vertical = True,ax = self.ax2)\n",
    "        p.axhline(y=np.mean(samples_RMH[:num, 0]),linestyle=\"--\")\n",
    "\n",
    "        return self.line1,p\n",
    "\n",
    "    def saveGIF(self,name = 'test'):\n",
    "        \n",
    "        self.fig = plt.figure(figsize=(15,3))\n",
    "        \n",
    "        ymin = np.min(self.data)-50\n",
    "        ymax = np.max(self.data)+50\n",
    "        \n",
    "        self.ax1 = plt.subplot2grid((1, 3), (0, 0), colspan=2,xlim=(0, self.data.shape[0]), ylim=(ymin,ymax))\n",
    "        self.ax2 = plt.subplot2grid((1, 3), (0, 2), colspan=1, ylim=(ymin,ymax))\n",
    "\n",
    "        self.line1, = self.ax1.plot([], [])\n",
    "        time = np.arange(10000)\n",
    "\n",
    "        anim = animation.FuncAnimation(self.fig, self.animate,init_func=self.init,\n",
    "                                       frames=time[::50], interval=0.1, blit=False)\n",
    "\n",
    "        anim.save(name+'test2.gif', dpi = 200,bitrate=500 ,writer='ImageMagick')\n",
    "\n"
   ]
  },
  {
   "cell_type": "code",
   "execution_count": null,
   "metadata": {
    "ExecuteTime": {
     "end_time": "2020-07-27T14:33:46.698512Z",
     "start_time": "2020-07-27T14:33:46.384758Z"
    }
   },
   "outputs": [],
   "source": [
    "data = samples_RMH[:,0]\n",
    "ca = chainAnimation(data)\n",
    "ca.Plot()"
   ]
  },
  {
   "cell_type": "code",
   "execution_count": null,
   "metadata": {
    "ExecuteTime": {
     "end_time": "2020-07-27T14:34:29.086763Z",
     "start_time": "2020-07-27T14:33:47.282679Z"
    }
   },
   "outputs": [],
   "source": [
    "ca.saveGIF(name='Plot')"
   ]
  },
  {
   "cell_type": "code",
   "execution_count": null,
   "metadata": {},
   "outputs": [],
   "source": [
    "fig"
   ]
  },
  {
   "cell_type": "code",
   "execution_count": null,
   "metadata": {
    "ExecuteTime": {
     "end_time": "2020-07-27T15:09:25.413981Z",
     "start_time": "2020-07-27T15:09:24.754756Z"
    }
   },
   "outputs": [],
   "source": [
    "import sys\n",
    "#sys.path.append(\"/Users/zhouji/Google Drive/RWTH/\")\n",
    "sys.path.append(\"/Users/darksky_thasya/Documents/Dokumente - Arysthasyas MacBook Air/george-works/MCMCPlot/\")\n",
    "from MCMCAnim import chainAnimation"
   ]
  },
  {
   "cell_type": "code",
   "execution_count": null,
   "metadata": {
    "ExecuteTime": {
     "end_time": "2020-07-27T15:09:25.631915Z",
     "start_time": "2020-07-27T15:09:25.489195Z"
    }
   },
   "outputs": [],
   "source": [
    "with open('/Users/darksky_thasya/Documents/Dokumente - Arysthasyas MacBook Air/george-works/MCMCPlot/gpCN_sample_9.json') as f:\n",
    "    data = json.load(f)\n",
    "data = json.loads(data)\n",
    "samples_RMH = np.asarray(data['samples_RMH'])\n",
    "\n",
    "with open('/Users/darksky_thasya/Documents/Dokumente - Arysthasyas MacBook Air/george-works/MCMCPlot/gpCN_sample_9.json') as f:\n",
    "    data = json.load(f)\n",
    "data = json.loads(data)\n",
    "samples_gpCN = np.asarray(data['samples_gpCN'])"
   ]
  },
  {
   "cell_type": "code",
   "execution_count": null,
   "metadata": {
    "ExecuteTime": {
     "end_time": "2020-07-27T15:09:27.452642Z",
     "start_time": "2020-07-27T15:09:26.803555Z"
    }
   },
   "outputs": [],
   "source": [
    "RMH = samples_RMH[:,0]\n",
    "ca_RMH = chainAnimation(RMH)\n",
    "ca_RMH.Plot()\n",
    "\n",
    "gpCN = samples_gpCN[:,0]\n",
    "ca_gpCN = chainAnimation(gpCN)\n",
    "ca_gpCN.Plot()"
   ]
  },
  {
   "cell_type": "code",
   "execution_count": null,
   "metadata": {
    "ExecuteTime": {
     "end_time": "2020-07-27T15:10:52.087624Z",
     "start_time": "2020-07-27T15:09:28.651188Z"
    }
   },
   "outputs": [],
   "source": [
    "ca_RMH.saveGIF('RMH')\n",
    "ca_gpCN.saveGIF('gpCN')"
   ]
  },
  {
   "cell_type": "code",
   "execution_count": null,
   "metadata": {},
   "outputs": [],
   "source": []
  }
 ],
 "metadata": {
  "kernelspec": {
   "display_name": "Python 3",
   "language": "python",
   "name": "python3"
  },
  "language_info": {
   "codemirror_mode": {
    "name": "ipython",
    "version": 3
   },
   "file_extension": ".py",
   "mimetype": "text/x-python",
   "name": "python",
   "nbconvert_exporter": "python",
   "pygments_lexer": "ipython3",
   "version": "3.7.4"
  },
  "varInspector": {
   "cols": {
    "lenName": 16,
    "lenType": 16,
    "lenVar": 40
   },
   "kernels_config": {
    "python": {
     "delete_cmd_postfix": "",
     "delete_cmd_prefix": "del ",
     "library": "var_list.py",
     "varRefreshCmd": "print(var_dic_list())"
    },
    "r": {
     "delete_cmd_postfix": ") ",
     "delete_cmd_prefix": "rm(",
     "library": "var_list.r",
     "varRefreshCmd": "cat(var_dic_list()) "
    }
   },
   "types_to_exclude": [
    "module",
    "function",
    "builtin_function_or_method",
    "instance",
    "_Feature"
   ],
   "window_display": false
  }
 },
 "nbformat": 4,
 "nbformat_minor": 2
}
